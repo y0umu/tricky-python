{
 "cells": [
  {
   "cell_type": "markdown",
   "metadata": {},
   "source": [
    "# Tricky Python\n",
    "和任何语言一样，Python也有许多技巧和陷阱。"
   ]
  },
  {
   "cell_type": "markdown",
   "metadata": {},
   "source": [
    "## 五坑\n",
    "原文 [Python这五个坑，怎么避开？](https://mp.weixin.qq.com/s/eBiLE4F9sR_LW7kxle_tLA)"
   ]
  },
  {
   "cell_type": "markdown",
   "metadata": {},
   "source": [
    "1. 用圆括号()硬编码tuple的时候要注意加逗号。否则圆括号会被当成优先级界定符号。\n",
    "显式使用`tuple`关键字就不会有这个问题。当然使用`tuple`关键字在python解释的时候会多几个转换字节码"
   ]
  },
  {
   "cell_type": "code",
   "execution_count": 2,
   "metadata": {},
   "outputs": [
    {
     "name": "stdout",
     "output_type": "stream",
     "text": [
      "<class 'int'>\n",
      "<class 'tuple'>\n"
     ]
    }
   ],
   "source": [
    "def demo1():\n",
    "    n = (1)\n",
    "    print(type(n))\n",
    "    tup = (1,)\n",
    "    print(type(tup))\n",
    "\n",
    "demo1()"
   ]
  },
  {
   "cell_type": "markdown",
   "metadata": {},
   "source": [
    "2. 默认参数如果是空的容器，切不可写`=[]`这种默认参数"
   ]
  },
  {
   "cell_type": "code",
   "execution_count": 3,
   "metadata": {},
   "outputs": [
    {
     "name": "stdout",
     "output_type": "stream",
     "text": [
      "  b is []\n",
      "  id of b is 1693945914120\n",
      "id of ret is 1693945914120\n",
      "  b is [1, 2]\n",
      "  id of b is 1693945914120\n"
     ]
    }
   ],
   "source": [
    "def demo2a():\n",
    "    def f(a, b=[]):  # “[]” 并不是每次调用都会创建一个新的[]\n",
    "        print(f\"  b is {b}\")\n",
    "        print(f'  id of b is {id(b)}')\n",
    "        return b\n",
    "    \n",
    "    ret = f(1)\n",
    "    ret.append(1)\n",
    "    ret.append(2)\n",
    "    print(f'id of ret is {id(ret)}')\n",
    "    f(3)\n",
    "\n",
    "demo2a()"
   ]
  },
  {
   "cell_type": "markdown",
   "metadata": {},
   "source": [
    "这种情况的正确做法是初始化为`None`, 然后总是判断并创建新的`[]`"
   ]
  },
  {
   "cell_type": "code",
   "execution_count": 4,
   "metadata": {},
   "outputs": [
    {
     "name": "stdout",
     "output_type": "stream",
     "text": [
      "  b is []\n",
      "  id of b is 1693945882824\n",
      "id of ret is 1693945882824\n",
      "  b is []\n",
      "  id of b is 1693946919496\n"
     ]
    }
   ],
   "source": [
    "def demo2b():\n",
    "    def f(a, b=None):\n",
    "        if b is None:\n",
    "            b = []\n",
    "        print(f\"  b is {b}\")\n",
    "        print(f'  id of b is {id(b)}')\n",
    "        return b\n",
    "    \n",
    "    ret = f(1)\n",
    "    ret.append(1)\n",
    "    ret.append(2)\n",
    "    print(f'id of ret is {id(ret)}')\n",
    "    f(3)\n",
    "\n",
    "demo2b()"
   ]
  },
  {
   "cell_type": "markdown",
   "metadata": {},
   "source": [
    "3. 外部变量与局部变量重名"
   ]
  },
  {
   "cell_type": "code",
   "execution_count": 5,
   "metadata": {},
   "outputs": [
    {
     "ename": "UnboundLocalError",
     "evalue": "local variable 'i' referenced before assignment",
     "output_type": "error",
     "traceback": [
      "\u001b[1;31m---------------------------------------------------------------------------\u001b[0m",
      "\u001b[1;31mUnboundLocalError\u001b[0m                         Traceback (most recent call last)",
      "\u001b[1;32m<ipython-input-5-6a22290d6974>\u001b[0m in \u001b[0;36m<module>\u001b[1;34m\u001b[0m\n\u001b[0;32m     11\u001b[0m     \u001b[0mg\u001b[0m\u001b[1;33m(\u001b[0m\u001b[1;33m)\u001b[0m\u001b[1;33m\u001b[0m\u001b[1;33m\u001b[0m\u001b[0m\n\u001b[0;32m     12\u001b[0m \u001b[1;33m\u001b[0m\u001b[0m\n\u001b[1;32m---> 13\u001b[1;33m \u001b[0mdemo3a\u001b[0m\u001b[1;33m(\u001b[0m\u001b[1;33m)\u001b[0m\u001b[1;33m\u001b[0m\u001b[1;33m\u001b[0m\u001b[0m\n\u001b[0m",
      "\u001b[1;32m<ipython-input-5-6a22290d6974>\u001b[0m in \u001b[0;36mdemo3a\u001b[1;34m()\u001b[0m\n\u001b[0;32m      8\u001b[0m         \u001b[0mprint\u001b[0m\u001b[1;33m(\u001b[0m\u001b[1;34mf'i in g is {i}'\u001b[0m\u001b[1;33m)\u001b[0m\u001b[1;33m\u001b[0m\u001b[1;33m\u001b[0m\u001b[0m\n\u001b[0;32m      9\u001b[0m \u001b[1;33m\u001b[0m\u001b[0m\n\u001b[1;32m---> 10\u001b[1;33m     \u001b[0mf\u001b[0m\u001b[1;33m(\u001b[0m\u001b[1;33m)\u001b[0m\u001b[1;33m\u001b[0m\u001b[1;33m\u001b[0m\u001b[0m\n\u001b[0m\u001b[0;32m     11\u001b[0m     \u001b[0mg\u001b[0m\u001b[1;33m(\u001b[0m\u001b[1;33m)\u001b[0m\u001b[1;33m\u001b[0m\u001b[1;33m\u001b[0m\u001b[0m\n\u001b[0;32m     12\u001b[0m \u001b[1;33m\u001b[0m\u001b[0m\n",
      "\u001b[1;32m<ipython-input-5-6a22290d6974>\u001b[0m in \u001b[0;36mf\u001b[1;34m()\u001b[0m\n\u001b[0;32m      2\u001b[0m     \u001b[0mi\u001b[0m \u001b[1;33m=\u001b[0m \u001b[1;36m1\u001b[0m\u001b[1;33m\u001b[0m\u001b[1;33m\u001b[0m\u001b[0m\n\u001b[0;32m      3\u001b[0m     \u001b[1;32mdef\u001b[0m \u001b[0mf\u001b[0m\u001b[1;33m(\u001b[0m\u001b[1;33m)\u001b[0m\u001b[1;33m:\u001b[0m\u001b[1;33m\u001b[0m\u001b[1;33m\u001b[0m\u001b[0m\n\u001b[1;32m----> 4\u001b[1;33m         \u001b[0mi\u001b[0m \u001b[1;33m+=\u001b[0m\u001b[1;36m1\u001b[0m   \u001b[1;31m# won't work. This is not C/C++. You get UnboundLocalError\u001b[0m\u001b[1;33m\u001b[0m\u001b[1;33m\u001b[0m\u001b[0m\n\u001b[0m\u001b[0;32m      5\u001b[0m         \u001b[0mprint\u001b[0m\u001b[1;33m(\u001b[0m\u001b[1;34mf'i in f is {i}'\u001b[0m\u001b[1;33m)\u001b[0m\u001b[1;33m\u001b[0m\u001b[1;33m\u001b[0m\u001b[0m\n\u001b[0;32m      6\u001b[0m \u001b[1;33m\u001b[0m\u001b[0m\n",
      "\u001b[1;31mUnboundLocalError\u001b[0m: local variable 'i' referenced before assignment"
     ]
    }
   ],
   "source": [
    "def demo3a():\n",
    "    i = 1\n",
    "    def f():\n",
    "        i +=1   # won't work. This is not C/C++. You get UnboundLocalError\n",
    "        print(f'i in f is {i}')\n",
    "    \n",
    "    def g():\n",
    "        print(f'i in g is {i}')\n",
    "    \n",
    "    f()\n",
    "    g()\n",
    "\n",
    "demo3a()"
   ]
  },
  {
   "cell_type": "code",
   "execution_count": 6,
   "metadata": {},
   "outputs": [
    {
     "name": "stdout",
     "output_type": "stream",
     "text": [
      "i in f is 2\n",
      "i in g is 2\n"
     ]
    }
   ],
   "source": [
    "def demo3b():\n",
    "    i = 1   # 像这里在demo3b内部定义的并不是全局变量，下面不能使用global关键字\n",
    "    def f():\n",
    "        nonlocal i  # 不能使用global\n",
    "        i +=1\n",
    "        print(f'i in f is {i}')\n",
    "    \n",
    "    def g():\n",
    "        print(f'i in g is {i}')\n",
    "    \n",
    "    f()\n",
    "    g()\n",
    "\n",
    "demo3b()"
   ]
  },
  {
   "cell_type": "markdown",
   "metadata": {},
   "source": [
    "运行下面的代码块前后最好重启下内核，防止全局变量被污染导致结果有偏差"
   ]
  },
  {
   "cell_type": "code",
   "execution_count": 7,
   "metadata": {},
   "outputs": [
    {
     "name": "stdout",
     "output_type": "stream",
     "text": [
      "i in f is 2\n",
      "i in g is 2\n"
     ]
    }
   ],
   "source": [
    "i = 1   # 不是在函数内定义的，应该使用global关键字\n",
    "def f():\n",
    "    global i\n",
    "    i +=1\n",
    "    print(f'i in f is {i}')\n",
    "\n",
    "def g():\n",
    "    print(f'i in g is {i}')\n",
    "\n",
    "f()\n",
    "g()"
   ]
  },
  {
   "cell_type": "markdown",
   "metadata": {},
   "source": [
    "4. 在python中`*`与列表操作，实现快速元素复制。但如果不注意使用条件的话就会犯错。"
   ]
  },
  {
   "cell_type": "markdown",
   "metadata": {},
   "source": [
    "对于浅层复制，这样做没有问题"
   ]
  },
  {
   "cell_type": "code",
   "execution_count": 8,
   "metadata": {},
   "outputs": [
    {
     "name": "stdout",
     "output_type": "stream",
     "text": [
      "a is [1, 3, 5, 1, 3, 5, 1, 3, 5]\n",
      "then a is [10, 3, 5, 1, 3, 5, 1, 3, 5]\n"
     ]
    }
   ],
   "source": [
    "def demo4a():\n",
    "    a = [1,3,5] * 3\n",
    "    print(f'a is {a}')\n",
    "    a[0] = 10\n",
    "    print(f'then a is {a}')\n",
    "\n",
    "demo4a()"
   ]
  },
  {
   "cell_type": "markdown",
   "metadata": {},
   "source": [
    "但是对于嵌套的容器，这么做会发生什么？"
   ]
  },
  {
   "cell_type": "code",
   "execution_count": 9,
   "metadata": {},
   "outputs": [
    {
     "name": "stdout",
     "output_type": "stream",
     "text": [
      "a is [[1, 3, 5], [2, 4], [1, 3, 5], [2, 4], [1, 3, 5], [2, 4]]\n",
      "then a is [[10, 3, 5], [2, 4], [10, 3, 5], [2, 4], [10, 3, 5], [2, 4]]\n",
      "id of a is\n",
      "[1693945869640, 1693946847560, 1693945869640, 1693946847560, 1693945869640, 1693946847560]\n"
     ]
    }
   ],
   "source": [
    "def demo4b():\n",
    "    a = [[1,3,5],[2,4]] * 3\n",
    "    print(f'a is {a}')\n",
    "    a[0][0] = 10\n",
    "    print(f'then a is {a}')\n",
    "    print('id of a is')\n",
    "    print([ id(i) for i in [x for x in a] ])\n",
    "\n",
    "demo4b()"
   ]
  },
  {
   "cell_type": "markdown",
   "metadata": {},
   "source": [
    "正如你所见，这一次的`a[0]`,`a[2]`,`a[4]`的id是一样的（当然`a[1]`,`a[3]`,`a[5]`的也是一样的）。原来`*`进行的是浅拷贝，一变俱变！"
   ]
  },
  {
   "cell_type": "markdown",
   "metadata": {},
   "source": [
    "正确的做法是显式使用深拷贝。既可以使用`copy.deepcopy`，也可以显式创建新的`list`"
   ]
  },
  {
   "cell_type": "code",
   "execution_count": 10,
   "metadata": {},
   "outputs": [
    {
     "name": "stdout",
     "output_type": "stream",
     "text": [
      "[[1, 3, 5], [2, 4], [1, 3, 5], [2, 4], [1, 3, 5], [2, 4]]\n",
      "then a is [[10, 3, 5], [2, 4], [1, 3, 5], [2, 4], [1, 3, 5], [2, 4]]\n",
      "id of a is\n",
      "[1693946762248, 1693946849096, 1693947247112, 1693946891400, 1693946765064, 1693945499272]\n"
     ]
    }
   ],
   "source": [
    "def demo4c():\n",
    "    a = [ [1,3,5] if i%2==0 else [2,4] for i in range(6) ]\n",
    "    print(a)\n",
    "    a[0][0] = 10\n",
    "    print(f'then a is {a}')\n",
    "    print('id of a is')\n",
    "    print([ id(i) for i in [x for x in a] ])\n",
    "    \n",
    "demo4c()"
   ]
  },
  {
   "cell_type": "markdown",
   "metadata": {},
   "source": [
    "5. 删除列表中的重复元素，没删干净"
   ]
  },
  {
   "cell_type": "code",
   "execution_count": 11,
   "metadata": {},
   "outputs": [
    {
     "name": "stdout",
     "output_type": "stream",
     "text": [
      "[1, 3, 5]\n"
     ]
    }
   ],
   "source": [
    "def demo5a():\n",
    "    def del_item(lst,x):\n",
    "        [lst.remove(i) for i in lst if i==x] # NO!\n",
    "        return lst\n",
    "    print(del_item([1,3,3,3,5],3))   # 中间的“3”删不掉\n",
    "\n",
    "demo5a()"
   ]
  },
  {
   "cell_type": "markdown",
   "metadata": {},
   "source": [
    "正确做法是“反其道行之”，也就是不做删除，而是将要删元素之外的元素取出"
   ]
  },
  {
   "cell_type": "code",
   "execution_count": 12,
   "metadata": {},
   "outputs": [
    {
     "name": "stdout",
     "output_type": "stream",
     "text": [
      "[1, 5]\n"
     ]
    }
   ],
   "source": [
    "def demo5b():\n",
    "    def del_item(lst,x):\n",
    "        return [i for i in lst if i!=x]\n",
    "    print(del_item([1,3,3,3,5],3))\n",
    "\n",
    "demo5b()"
   ]
  }
 ],
 "metadata": {
  "kernelspec": {
   "display_name": "Python 3",
   "language": "python",
   "name": "python3"
  },
  "language_info": {
   "codemirror_mode": {
    "name": "ipython",
    "version": 3
   },
   "file_extension": ".py",
   "mimetype": "text/x-python",
   "name": "python",
   "nbconvert_exporter": "python",
   "pygments_lexer": "ipython3",
   "version": "3.7.4"
  }
 },
 "nbformat": 4,
 "nbformat_minor": 2
}
